{
  "nbformat": 4,
  "nbformat_minor": 0,
  "metadata": {
    "colab": {
      "name": "LinkedList#4.ipynb",
      "provenance": [],
      "authorship_tag": "ABX9TyNaXubf33TfbMqII/qhZ9Vd",
      "include_colab_link": true
    },
    "kernelspec": {
      "name": "python3",
      "display_name": "Python 3"
    },
    "language_info": {
      "name": "python"
    }
  },
  "cells": [
    {
      "cell_type": "markdown",
      "metadata": {
        "id": "view-in-github",
        "colab_type": "text"
      },
      "source": [
        "<a href=\"https://colab.research.google.com/github/FarnazG/DataStructure/blob/main/LinkedList_4.ipynb\" target=\"_parent\"><img src=\"https://colab.research.google.com/assets/colab-badge.svg\" alt=\"Open In Colab\"/></a>"
      ]
    },
    {
      "cell_type": "markdown",
      "metadata": {
        "id": "jpLiqjVVJ7P3"
      },
      "source": [
        "**Q1**. In an open farmland where a hare (similar as rabbit) lives, it usually sleeps in any suitable place, continually shifting from one place to another in total 10 nests labeled from 1 to 10.\n",
        "But a wolf lives in the same area, hunting to check 10 nests in the manner as follows: \n",
        "\n",
        "-\tstart to check from label 1 nest\n",
        "-\tthen skip one nest (label 2) to check label 3\n",
        "-\tincrease skipped checking number to 2 (skip label 4 and label 5) and look for it in label 6\n",
        "-\tkeep increasing skipped number to 3 to check label 10\n",
        "-\tgo back to count from label 1 by increasing skipped number to 4 and so on\n",
        "\n",
        "Write a program to help this hare to make a decision which nests are safe to sleep, maybe doesn't exist at all after the wolf checked n times\n",
        "\n",
        "\tHint: create a circular linked list and traverse one by one circularly.\n",
        "\n"
      ]
    },
    {
      "cell_type": "code",
      "metadata": {
        "colab": {
          "base_uri": "https://localhost:8080/"
        },
        "id": "e_tjCIpBJ9uO",
        "outputId": "a159f3cb-acc7-4d3f-95a2-b1d733598ed4"
      },
      "source": [
        "class Nd:\n",
        "    def __init__(self, data=None):\n",
        "        self.data = data\n",
        "        self.checked = 0\n",
        "        self.next = None\n",
        "\n",
        "\n",
        "class CircularList:\n",
        "    def __init__(self, data=None):\n",
        "        self.head = None\n",
        "        self.tail = None\n",
        "        self.size = 0\n",
        "\n",
        "    def append(self, data):\n",
        "        node = Nd(data)\n",
        "        if self.head:\n",
        "            self.tail.next = node\n",
        "            self.tail = node\n",
        "        else:\n",
        "            self.head = node\n",
        "            self.tail = node\n",
        "\n",
        "        self.tail.next = self.head\n",
        "        self.size += 1\n",
        "\n",
        "    def delete(self, nd):\n",
        "        if nd == self.head:\n",
        "            tmp = self.head\n",
        "            self.tail.next = self.head.next\n",
        "            tmp.next = None\n",
        "\n",
        "    def rabbit_hole_check(self, n):\n",
        "        tmp = self.head\n",
        "        for i in range(0, n):\n",
        "            for j in range(0,i):\n",
        "                tmp=tmp.next\n",
        "            tmp.checked = 1\n",
        "\n",
        "        tmp = self.head\n",
        "\n",
        "        safe_holes=[]\n",
        "        while 1:\n",
        "            if tmp.checked==0:\n",
        "                safe_holes.append(tmp.data)\n",
        "            tmp=tmp.next\n",
        "            if tmp == self.head:\n",
        "                break\n",
        "\n",
        "        return safe_holes\n",
        "\n",
        "\n",
        "cl1 = CircularList()\n",
        "for i in range(1,11):\n",
        "    cl1.append(i)\n",
        "\n",
        "n = int(input(\"Enter the number of times the wolf checks on the holes: \"))\n",
        "safe_holes = cl1.rabbit_hole_check(n)\n",
        "\n",
        "if len(safe_holes)==0:\n",
        "    print(\"No hole is safe ...\")\n",
        "\n",
        "print(\"The list of safe holes: \" + str(safe_holes))\n"
      ],
      "execution_count": 1,
      "outputs": [
        {
          "output_type": "stream",
          "text": [
            "Enter the number of times the wolf checks on the holes: 3\n",
            "The list of safe holes: [3, 5, 6, 7, 8, 9, 10]\n"
          ],
          "name": "stdout"
        }
      ]
    },
    {
      "cell_type": "markdown",
      "metadata": {
        "id": "ghj7B1vQKpOU"
      },
      "source": [
        "**Q2**. Assuming that there are two circular linked lists l & m with char type node value from \n",
        "a-zA-Z in non-descending sequence, find a function/method to extract common node \n",
        "values from both, and generate a new circular list without duplicated one\n",
        "\n",
        "\tHint: take question 4 in HW#3 as reference \n",
        "\n"
      ]
    },
    {
      "cell_type": "code",
      "metadata": {
        "colab": {
          "base_uri": "https://localhost:8080/"
        },
        "id": "QYj8BgbUKwNk",
        "outputId": "e6afb1a6-9395-45a9-cc3a-a346a0c98b50"
      },
      "source": [
        "class Nd:\n",
        "    def __init__(self, data=None):\n",
        "        self.data = data\n",
        "        self.next = None\n",
        "\n",
        "\n",
        "class CircularList:\n",
        "    def __init__(self, data=None):\n",
        "        self.head = None\n",
        "        self.tail = None\n",
        "        self.size = 0\n",
        "\n",
        "    def append(self, data):\n",
        "        node = Nd(data)\n",
        "        if self.head:\n",
        "            self.tail.next = node\n",
        "            self.tail = node\n",
        "        else:\n",
        "            self.head = node\n",
        "            self.tail = node\n",
        "\n",
        "        self.tail.next = self.head\n",
        "        self.size += 1\n",
        "\n",
        "    def print_LL(self):\n",
        "        tmp = self.head\n",
        "        print(\"Head->\", end=\"\")\n",
        "\n",
        "        while 1:\n",
        "            print(tmp.data, end=\"->\")\n",
        "            tmp = tmp.next\n",
        "\n",
        "            if tmp == self.head:\n",
        "                print(\"Head\")\n",
        "                break\n",
        "\n",
        "\n",
        "def inList(cll, value):\n",
        "    if cll.size == 0:\n",
        "        return 0\n",
        "\n",
        "    tmp = cll.head\n",
        "    while 1:\n",
        "        if tmp.data == value:\n",
        "            return 1\n",
        "        tmp = tmp.next\n",
        "        if tmp == cll.head:\n",
        "            break\n",
        "\n",
        "    return 0\n",
        "\n",
        "\n",
        "def common_elements(cl1, cl2):\n",
        "    out = CircularList()\n",
        "    h1 = cl1.head\n",
        "    h2 = cl2.head\n",
        "\n",
        "    while 1:\n",
        "        # print(\"1: \" + str(h1.data) + \", 2: \" + str(h2.data))\n",
        "        if h1.data == h2.data:\n",
        "            if inList(out, h1.data) == 0:\n",
        "                out.append(h1.data)\n",
        "            h1 = h1.next\n",
        "            h2 = h2.next\n",
        "        elif ord(h1.data) < ord(h2.data):\n",
        "            h1 = h1.next\n",
        "        else:\n",
        "            h2 = h2.next\n",
        "\n",
        "        if h1 == cl1.tail or h2 == cl2.tail:\n",
        "            break\n",
        "\n",
        "    return out\n",
        "\n",
        "\n",
        "cl1 = CircularList()\n",
        "cl1.append('B')\n",
        "cl1.append('C')\n",
        "cl1.append('C')\n",
        "cl1.append('W')\n",
        "cl1.append('Z')\n",
        "cl1.append('a')\n",
        "cl1.append('c')\n",
        "cl1.append('d')\n",
        "cl1.append('h')\n",
        "cl1.append('h')\n",
        "cl1.print_LL()\n",
        "\n",
        "cl2 = CircularList()\n",
        "cl2.append('C')\n",
        "cl2.append('C')\n",
        "cl2.append('T')\n",
        "cl2.append('Z')\n",
        "cl2.append('b')\n",
        "cl2.append('b')\n",
        "cl2.append('c')\n",
        "cl2.append('c')\n",
        "cl2.print_LL()\n",
        "\n",
        "out = common_elements(cl1, cl2)\n",
        "print(\"\\nCommon elements:\")\n",
        "out.print_LL()\n"
      ],
      "execution_count": 2,
      "outputs": [
        {
          "output_type": "stream",
          "text": [
            "Head->B->C->C->W->Z->a->c->d->h->h->Head\n",
            "Head->C->C->T->Z->b->b->c->c->Head\n",
            "\n",
            "Common elements:\n",
            "Head->C->Z->c->Head\n"
          ],
          "name": "stdout"
        }
      ]
    },
    {
      "cell_type": "markdown",
      "metadata": {
        "id": "lXmp45-tK-t9"
      },
      "source": [
        "\n",
        "**Q3**. Given a circular linked list with int type value at each node, write a program to delete all  prime number nodes, such as m= Head->13->12->15->14->Head, after calling delete_prime_CLL(m), you will get Head->12->15->14->Head\n"
      ]
    },
    {
      "cell_type": "code",
      "metadata": {
        "colab": {
          "base_uri": "https://localhost:8080/"
        },
        "id": "mpVlOMV-NUJ2",
        "outputId": "ecbf8692-c6aa-4b75-c6e1-d4a316366e57"
      },
      "source": [
        " class Nd:\n",
        "    def __init__(self, data=None):\n",
        "        self.data = data\n",
        "        self.next = None\n",
        "\n",
        "\n",
        "class CircularList:\n",
        "    def __init__(self, data=None):\n",
        "        self.head = None\n",
        "        self.tail = None\n",
        "        self.size = 0\n",
        "\n",
        "    def append(self, data):\n",
        "        node = Nd(data)\n",
        "        if self.head:\n",
        "            self.tail.next = node\n",
        "            self.tail = node\n",
        "        else:\n",
        "            self.head = node\n",
        "            self.tail = node\n",
        "\n",
        "        self.tail.next = self.head\n",
        "        self.size += 1\n",
        "\n",
        "    def print_LL(self):\n",
        "        tmp = self.head\n",
        "        print(\"Head->\", end=\"\")\n",
        "        while 1:\n",
        "            print(tmp.data, end=\"->\")\n",
        "            tmp = tmp.next\n",
        "\n",
        "            if tmp == self.head:\n",
        "                print(\"Head\")\n",
        "                break\n",
        "\n",
        "\n",
        "def is_prime(n):\n",
        "    for i in range(2, int(n/2)):\n",
        "        if n % i == 0:\n",
        "            return False\n",
        "    return True\n",
        "\n",
        "\n",
        "def delete_prime_CLL(cll):\n",
        "    tmp = cl1.tail\n",
        "    while 1:\n",
        "        if is_prime(tmp.next.data):\n",
        "            if tmp.next == cll.head:\n",
        "                cll.head = cll.head.next\n",
        "            elif tmp.next == cll.tail:\n",
        "                cll.tail = tmp\n",
        "\n",
        "            t1 = tmp.next\n",
        "            tmp.next = tmp.next.next\n",
        "            t1.next = None\n",
        "        tmp = tmp.next\n",
        "        if tmp.next == cl1.head:\n",
        "            break\n",
        "\n",
        "\n",
        "cl1 = CircularList()\n",
        "cl1.append(13)\n",
        "cl1.append(12)\n",
        "cl1.append(15)\n",
        "cl1.append(14)\n",
        "cl1.print_LL()\n",
        "\n",
        "delete_prime_CLL(cl1)\n",
        "cl1.print_LL()\n"
      ],
      "execution_count": 6,
      "outputs": [
        {
          "output_type": "stream",
          "text": [
            "Head->13->12->15->14->Head\n",
            "Head->12->15->14->Head\n"
          ],
          "name": "stdout"
        }
      ]
    },
    {
      "cell_type": "markdown",
      "metadata": {
        "id": "NaU-soEdLHBB"
      },
      "source": [
        "**Q4**. Find a program to split from first N nodes into new circular linked list with int type nodes while preserving the old nodes. For instance, org = Head->2->3->4->5->6->7->8\n",
        "\t->Head, two new circular linked lists should be Head->2->3->4->Head and \n",
        "\tHead->5->6->7->8->Head from the outputs of function call split_CLL(org, 3)\n"
      ]
    },
    {
      "cell_type": "code",
      "metadata": {
        "colab": {
          "base_uri": "https://localhost:8080/"
        },
        "id": "CAejVm97Nf0V",
        "outputId": "26a288a1-d9a4-4ed7-e45d-4549aa809af8"
      },
      "source": [
        " class Nd:\n",
        "    def __init__(self, data=None):\n",
        "        self.data = data\n",
        "        self.next = None\n",
        "\n",
        "\n",
        "class CircularList:\n",
        "    def __init__(self, data=None):\n",
        "        self.head = None\n",
        "        self.tail = None\n",
        "        self.size = 0\n",
        "\n",
        "    def append(self, data):\n",
        "        node = Nd(data)\n",
        "        if self.head:\n",
        "            self.tail.next = node\n",
        "            self.tail = node\n",
        "        else:\n",
        "            self.head = node\n",
        "            self.tail = node\n",
        "\n",
        "        self.tail.next = self.head\n",
        "        self.size += 1\n",
        "\n",
        "    def print_LL(self):\n",
        "        tmp = self.head\n",
        "        print(\"Head->\", end=\"\")\n",
        "        while 1:\n",
        "            print(tmp.data, end=\"->\")\n",
        "            tmp = tmp.next\n",
        "\n",
        "            if tmp == self.head:\n",
        "                print(\"Head\")\n",
        "                break\n",
        "\n",
        "\n",
        "def split_CLL(cll, n):\n",
        "    tmp = cll.tail\n",
        "\n",
        "    for i in range(0, n):\n",
        "        tmp = tmp.next\n",
        "\n",
        "    cl1 = CircularList()\n",
        "    cl2 = CircularList()\n",
        "\n",
        "    cl1.head = cll.head\n",
        "    cl1.tail = tmp\n",
        "    cl2.head = tmp.next\n",
        "    cl2.tail = cll.tail\n",
        "    cl1.tail.next = cl1.head\n",
        "    cl2.tail.next = cl2.head\n",
        "\n",
        "    return cl1, cl2\n",
        "\n",
        "\n",
        "cll = CircularList()\n",
        "cll.append(2)\n",
        "cll.append(3)\n",
        "cll.append(4)\n",
        "cll.append(5)\n",
        "cll.append(6)\n",
        "cll.append(7)\n",
        "cll.append(8)\n",
        "\n",
        "cll.print_LL()\n",
        "\n",
        "cl1, cl2 = split_CLL(cll, 3)\n",
        "print(\"\\nC1: \", end=\"\")\n",
        "cl1.print_LL()\n",
        "print(\"C2: \", end=\"\")\n",
        "cl2.print_LL()"
      ],
      "execution_count": 7,
      "outputs": [
        {
          "output_type": "stream",
          "text": [
            "Head->2->3->4->5->6->7->8->Head\n",
            "\n",
            "C1: Head->2->3->4->Head\n",
            "C2: Head->5->6->7->8->Head\n"
          ],
          "name": "stdout"
        }
      ]
    },
    {
      "cell_type": "markdown",
      "metadata": {
        "id": "D1VsojvWLPBr"
      },
      "source": [
        "**Q5**. Generate a function in clockwise rotation for each node (either char type or int type) in doubly linked list by N places, e.g. given \n",
        "\n",
        "    list = None<-Head<=>c<=>i<=>v<=>i>=>c->None, from function call \n",
        "    rotate_DLL(list, 3), the output will be like this \n",
        "    None<-Head<=>v<=>i<=>c<=>c>=>i->None\n",
        " \n"
      ]
    },
    {
      "cell_type": "code",
      "metadata": {
        "colab": {
          "base_uri": "https://localhost:8080/"
        },
        "id": "IJ_c4kcVNyVn",
        "outputId": "797b9650-77c3-4d20-a8e0-35f8d70f28b1"
      },
      "source": [
        "class Node(object):\n",
        "    \"\"\" A Doubly-linked lists' node. \"\"\"\n",
        "    def __init__(self, data=None, next=None, prev=None):\n",
        "        self.data = data\n",
        "        self.next = next\n",
        "        self.prev = prev\n",
        "\n",
        "\n",
        "class DoublyLinkedList(object):\n",
        "    def __init__(self):\n",
        "        self.head = None\n",
        "        self.tail = None\n",
        "        self.count = 0\n",
        "\n",
        "    def append(self, data):\n",
        "        new_node = Node(data, None, None)\n",
        "        if self.head is None:\n",
        "            self.head = new_node\n",
        "            self.tail = self.head\n",
        "        else:\n",
        "            new_node.prev = self.tail\n",
        "            self.tail.next = new_node\n",
        "            self.tail = new_node\n",
        "\n",
        "        self.count += 1\n",
        "\n",
        "    def print_LL(self):\n",
        "        current = self.head\n",
        "        print(\"Head\", end=\"->\")\n",
        "        while current:\n",
        "            print(str(current.data), end=\"<=>\")\n",
        "            current = current.next\n",
        "\n",
        "        print(\"None\")\n",
        "\n",
        "\n",
        "def rotate_DLL(dll, n):\n",
        "    dll.head.prev = dll.tail\n",
        "    dll.tail.next = dll.head\n",
        "\n",
        "    for i in range(0,n):\n",
        "        dll.head = dll.head.prev\n",
        "        dll.tail = dll.tail.prev\n",
        "\n",
        "    dll.head.prev = None\n",
        "    dll.tail.next = None\n",
        "\n",
        "\n",
        "dll = DoublyLinkedList()\n",
        "dll.append('c')\n",
        "dll.append('i')\n",
        "dll.append('v')\n",
        "dll.append('i')\n",
        "dll.append('c')\n",
        "\n",
        "dll.print_LL()\n",
        "rotate_DLL(dll, 3)\n",
        "dll.print_LL()\n"
      ],
      "execution_count": 8,
      "outputs": [
        {
          "output_type": "stream",
          "text": [
            "Head->c<=>i<=>v<=>i<=>c<=>None\n",
            "Head->v<=>i<=>c<=>c<=>i<=>None\n"
          ],
          "name": "stdout"
        }
      ]
    },
    {
      "cell_type": "markdown",
      "metadata": {
        "id": "nvT5S_kULgvG"
      },
      "source": [
        "**Q6**. (Bonus) Check whether there exists random pointer in doubly linked list or not and correct it by a program, as example as follows for function input and output"
      ]
    },
    {
      "cell_type": "code",
      "metadata": {
        "id": "KMjLupgBJ5Pc"
      },
      "source": [
        "from google.colab import files\n",
        "from IPython.display import Image"
      ],
      "execution_count": 3,
      "outputs": []
    },
    {
      "cell_type": "code",
      "metadata": {
        "colab": {
          "resources": {
            "http://localhost:8080/nbextensions/google.colab/files.js": {
              "data": "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",
              "ok": true,
              "headers": [
                [
                  "content-type",
                  "application/javascript"
                ]
              ],
              "status": 200,
              "status_text": ""
            }
          },
          "base_uri": "https://localhost:8080/",
          "height": 73
        },
        "id": "bpsYxG_ENATl",
        "outputId": "64b74a90-c687-4792-a1c7-4176b21f2905"
      },
      "source": [
        "uploaded = files.upload()"
      ],
      "execution_count": 4,
      "outputs": [
        {
          "output_type": "display_data",
          "data": {
            "text/html": [
              "\n",
              "     <input type=\"file\" id=\"files-e50c04c0-ff95-46e8-bee8-46492a8f86b9\" name=\"files[]\" multiple disabled\n",
              "        style=\"border:none\" />\n",
              "     <output id=\"result-e50c04c0-ff95-46e8-bee8-46492a8f86b9\">\n",
              "      Upload widget is only available when the cell has been executed in the\n",
              "      current browser session. Please rerun this cell to enable.\n",
              "      </output>\n",
              "      <script src=\"/nbextensions/google.colab/files.js\"></script> "
            ],
            "text/plain": [
              "<IPython.core.display.HTML object>"
            ]
          },
          "metadata": {
            "tags": []
          }
        },
        {
          "output_type": "stream",
          "text": [
            "Saving Picture1.png to Picture1.png\n"
          ],
          "name": "stdout"
        }
      ]
    },
    {
      "cell_type": "code",
      "metadata": {
        "colab": {
          "base_uri": "https://localhost:8080/",
          "height": 137
        },
        "id": "_H0RTBaLNBIR",
        "outputId": "2eca5d77-72b0-455e-a4de-7f152e18b57d"
      },
      "source": [
        "Image(\"Picture1.png\")"
      ],
      "execution_count": 5,
      "outputs": [
        {
          "output_type": "execute_result",
          "data": {
            "image/png": "[encoded data removed]",
            "text/plain": [
              "<IPython.core.display.Image object>"
            ]
          },
          "metadata": {
            "tags": []
          },
          "execution_count": 5
        }
      ]
    },
    {
      "cell_type": "code",
      "metadata": {
        "colab": {
          "base_uri": "https://localhost:8080/"
        },
        "id": "aUzr7SLlNJd7",
        "outputId": "b1e71fa4-f5f1-4b3b-9551-66a14de3397f"
      },
      "source": [
        "class Node(object):\n",
        "    \"\"\" A Doubly-linked lists' node. \"\"\"\n",
        "\n",
        "    def __init__(self, data=None, next=None, prev=None):\n",
        "        self.data = data\n",
        "        self.next = next\n",
        "        self.prev = prev\n",
        "\n",
        "\n",
        "class DoublyLinkedList(object):\n",
        "    def __init__(self):\n",
        "        self.head = None\n",
        "        self.tail = None\n",
        "        self.count = 0\n",
        "\n",
        "    def append(self, data):\n",
        "        new_node = Node(data, None, None)\n",
        "        if self.head is None:\n",
        "            self.head = new_node\n",
        "            self.tail = self.head\n",
        "        else:\n",
        "            new_node.prev = self.tail\n",
        "            self.tail.next = new_node\n",
        "            self.tail = new_node\n",
        "\n",
        "        self.count += 1\n",
        "\n",
        "    def print_LL(self):\n",
        "        current = self.head\n",
        "        print(\"Head\", end=\"->\")\n",
        "        while current:\n",
        "            print(str(current.data), end=\"<=>\")\n",
        "            current = current.next\n",
        "\n",
        "        print(\"None\")\n",
        "\n",
        "    def print_forward(self):\n",
        "        current = self.head\n",
        "        print(\"Head\", end=\"->\")\n",
        "        while current:\n",
        "            print(str(current.data), end=\"->\")\n",
        "            current = current.next\n",
        "        print(\"Tail\")\n",
        "\n",
        "    def print_backward(self):\n",
        "        current = self.tail\n",
        "        print(\"Tail\", end=\"->\")\n",
        "        while current:\n",
        "            print(str(current.data), end=\"->\")\n",
        "            current = current.prev\n",
        "        print(\"Head\")\n",
        "\n",
        "    def random_pointer(self):\n",
        "        h = self.head\n",
        "        t = self.tail\n",
        "        lh = []\n",
        "        lt = []\n",
        "        while h:\n",
        "            lh.append(h)\n",
        "            h = h.next\n",
        "\n",
        "        while t:\n",
        "            lt.append(t)\n",
        "            t = t.prev\n",
        "\n",
        "        if len(lh) == len(lt):\n",
        "            print(\"No random pointer ...\")\n",
        "            return False\n",
        "        elif len(lh) < len(lt):\n",
        "            print(\"Random pointer in forward pointers ...\")\n",
        "            for i in lt:\n",
        "                if i.prev:\n",
        "                    i.prev.next = i\n",
        "            return True\n",
        "        elif len(lt) < len(lh):\n",
        "            print(\"Random pointer in backward pointers ...\")\n",
        "            for i in lh:\n",
        "                if i.next:\n",
        "                    i.next.prev = i\n",
        "            return True\n",
        "\n",
        "\n",
        "dll = DoublyLinkedList()\n",
        "dll.append(1)\n",
        "dll.append(2)\n",
        "nd1 = dll.tail\n",
        "dll.append(3)\n",
        "dll.append(4)\n",
        "dll.append(5)\n",
        "nd1.next = dll.tail\n",
        "dll.append(6)\n",
        "\n",
        "print(\"Forward and backward print\")\n",
        "dll.print_forward()\n",
        "dll.print_backward()\n",
        "print(\"\")\n",
        "rp = dll.random_pointer()\n",
        "if rp is True:\n",
        "    print(\"Forward and backward print after the fix\")\n",
        "    dll.print_forward()\n",
        "    dll.print_backward()\n",
        "\n",
        "print(\"\\n------------------------\")\n",
        "\n",
        "dll2 = DoublyLinkedList()\n",
        "dll2.append(10)\n",
        "dll2.append(20)\n",
        "nd2 = dll2.tail\n",
        "dll2.append(30)\n",
        "dll2.append(40)\n",
        "dll2.append(50)\n",
        "dll2.tail.prev = nd2\n",
        "dll2.append(60)\n",
        "print(\"Forward and backward print \")\n",
        "dll2.print_forward()\n",
        "dll2.print_backward()\n",
        "print(\"\")\n",
        "rp = dll2.random_pointer()\n",
        "if rp is True:\n",
        "    print(\"Forward and backward print after the fix\")\n",
        "    dll2.print_forward()\n",
        "    dll2.print_backward()"
      ],
      "execution_count": 9,
      "outputs": [
        {
          "output_type": "stream",
          "text": [
            "Forward and backward print\n",
            "Head->1->2->5->6->Tail\n",
            "Tail->6->5->4->3->2->1->Head\n",
            "\n",
            "Random pointer in forward pointers ...\n",
            "Forward and backward print after the fix\n",
            "Head->1->2->3->4->5->6->Tail\n",
            "Tail->6->5->4->3->2->1->Head\n",
            "\n",
            "------------------------\n",
            "Forward and backward print \n",
            "Head->10->20->30->40->50->60->Tail\n",
            "Tail->60->50->20->10->Head\n",
            "\n",
            "Random pointer in backward pointers ...\n",
            "Forward and backward print after the fix\n",
            "Head->10->20->30->40->50->60->Tail\n",
            "Tail->60->50->40->30->20->10->Head\n"
          ],
          "name": "stdout"
        }
      ]
    }
  ]
}