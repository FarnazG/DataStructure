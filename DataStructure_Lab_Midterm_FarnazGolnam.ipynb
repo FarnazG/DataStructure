{
  "nbformat": 4,
  "nbformat_minor": 0,
  "metadata": {
    "colab": {
      "name": "DataStructure_Lab_Midterm_FarnazGolnam.ipynb",
      "provenance": [],
      "authorship_tag": "ABX9TyOCUtxn6cHfPCHTyZ6C/3zg",
      "include_colab_link": true
    },
    "kernelspec": {
      "name": "python3",
      "display_name": "Python 3"
    },
    "language_info": {
      "name": "python"
    }
  },
  "cells": [
    {
      "cell_type": "markdown",
      "metadata": {
        "id": "view-in-github",
        "colab_type": "text"
      },
      "source": [
        "<a href=\"https://colab.research.google.com/github/FarnazG/DataStructure/blob/main/DataStructure_Lab_Midterm_FarnazGolnam.ipynb\" target=\"_parent\"><img src=\"https://colab.research.google.com/assets/colab-badge.svg\" alt=\"Open In Colab\"/></a>"
      ]
    },
    {
      "cell_type": "markdown",
      "metadata": {
        "id": "uQsLKc8JScOA"
      },
      "source": [
        "**Q1.**\tGiven a singly linked list with char type nodes from A-Z, like \n",
        "\n",
        "ls = Head->c->o->m->m->i->t->t->e->e->None, write a program to delete ALL nodes if the consecutive values are the same. After del(ls) function call, Head->c->o->i->None will be the return value\n"
      ]
    },
    {
      "cell_type": "code",
      "metadata": {
        "colab": {
          "base_uri": "https://localhost:8080/"
        },
        "id": "2U6pHMLIgP1F",
        "outputId": "b49a1e14-5719-4791-d288-fe292e6a8ed3"
      },
      "source": [
        "class Node:\n",
        "\n",
        "    # Function to initialise the node object\n",
        "    def __init__(self, data):\n",
        "        self.data = data  # Assign data\n",
        "        self.next = None  # Initialize next as null\n",
        "\n",
        "\n",
        "# Linked List class contains a Node object\n",
        "class LinkedList:\n",
        "\n",
        "    # Function to initialize head\n",
        "    def __init__(self):\n",
        "        self.head = None\n",
        "\n",
        "    def append(self, new_data):\n",
        "        new_node = Node(new_data)\n",
        "        if self.head is None:\n",
        "            self.head = new_node\n",
        "            return\n",
        "\n",
        "        last = self.head\n",
        "        while last.next:\n",
        "            last = last.next\n",
        "\n",
        "        last.next = new_node\n",
        "\n",
        "    def print_LL(self):\n",
        "        current = self.head\n",
        "        while current:\n",
        "            print(str(current.data), end=\" \")\n",
        "            current = current.next\n",
        "\n",
        "    def delete(self, nd):\n",
        "        tmp = Node(0)\n",
        "        tmp.next = self.head\n",
        "        self.head = tmp\n",
        "        current = self.head\n",
        "        while current.next:\n",
        "            if current.next == nd:\n",
        "                t = current.next\n",
        "                current.next = current.next.next\n",
        "                t.next = None\n",
        "                break\n",
        "            current = current.next\n",
        "        self.head = self.head.next\n",
        "        tmp.next = None\n",
        "\n",
        "\n",
        "    def dele(self):\n",
        "        f = 0\n",
        "        current = self.head\n",
        "        cur_data = current.data\n",
        "        while current.next:\n",
        "            if cur_data == current.next.data:\n",
        "                self.delete(current.next)\n",
        "                f = 1\n",
        "            else:\n",
        "                if f == 1:\n",
        "                    tmp = current\n",
        "                    current = current.next\n",
        "                    cur_data = current.data\n",
        "                    self.delete(tmp)\n",
        "                    f = 0\n",
        "                else:\n",
        "                    current = current.next\n",
        "                    cur_data = current.data\n",
        "        if f==1:\n",
        "            self.delete(current)\n",
        "\n",
        "\n",
        "ll = LinkedList()\n",
        "ll.append('c')\n",
        "ll.append('o')\n",
        "ll.append('m')\n",
        "ll.append('m')\n",
        "ll.append('i')\n",
        "ll.append('t')\n",
        "ll.append('t')\n",
        "ll.append('r')\n",
        "ll.append('r')\n",
        "\n",
        "\n",
        "ll.print_LL()\n",
        "ll.dele()\n",
        "print(\"\\nAfter deletion \")\n",
        "ll.print_LL()"
      ],
      "execution_count": 1,
      "outputs": [
        {
          "output_type": "stream",
          "text": [
            "c o m m i t t r r \n",
            "After deletion \n",
            "c o i "
          ],
          "name": "stdout"
        }
      ]
    },
    {
      "cell_type": "markdown",
      "metadata": {
        "id": "pwDGwZDwRnwo"
      },
      "source": [
        "**Q2.**\tIn the singly circular linked list of an unsigned int type value node, such as \n",
        "ls = Head->8->9->10->11->12->13->Head, create a function/method mov(ls) to move Head to prime number node, the new list should be like Head->11->12->13->8->9->10\n",
        "->Head\n"
      ]
    },
    {
      "cell_type": "code",
      "metadata": {
        "colab": {
          "base_uri": "https://localhost:8080/"
        },
        "id": "a5wmKTm0RQNa",
        "outputId": "3fc8da4e-e893-48d3-d27a-0eb1e4bd9e44"
      },
      "source": [
        "import numpy as np\n",
        "\n",
        "class Nd:\n",
        "    def __init__(self, data=None):\n",
        "        self.data = data\n",
        "        self.next = None\n",
        "\n",
        "\n",
        "class CircularList:\n",
        "    def __init__(self, data=None):\n",
        "        self.head = None\n",
        "        self.tail = None\n",
        "        self.size = 0\n",
        "\n",
        "    def append(self, data):\n",
        "        node = Nd(data)\n",
        "        if self.head: \n",
        "            self.head.next = node \n",
        "            self.head = node\n",
        "        else:\n",
        "            self.head = node\n",
        "            self.tail = node\n",
        "        self.head.next = self.tail\n",
        "        self.size += 1\n",
        "\n",
        "    def is_prime(self, n):\n",
        "        for i in range(2, int(n/2)):\n",
        "            if n % i == 0:\n",
        "                return False\n",
        "\n",
        "        return True\n",
        "\n",
        "    def mov(self):\n",
        "        tmp = self.tail\n",
        "\n",
        "        while 1:\n",
        "            if self.is_prime(self.tail.data):\n",
        "                break\n",
        "\n",
        "            self.tail = self.tail.next\n",
        "            self.head = self.head.next\n",
        "\n",
        "            if tmp == self.tail:\n",
        "                break\n",
        "\n",
        "    def print_LL(self):\n",
        "        tmp = self.tail\n",
        "\n",
        "        while 1:\n",
        "            print(tmp.data, end=\"->\")\n",
        "            tmp = tmp.next\n",
        "\n",
        "            if tmp == self.tail:\n",
        "                print(\"None\")\n",
        "                break\n",
        "\n",
        "\n",
        "dll = CircularList()\n",
        "dll.append(8)\n",
        "dll.append(9)\n",
        "dll.append(10)\n",
        "dll.append(11)\n",
        "dll.append(12)\n",
        "dll.append(13)\n",
        "dll.print_LL()\n",
        "dll.mov()\n",
        "print(\"After moving to the prime: \")\n",
        "dll.print_LL()\n",
        "\n"
      ],
      "execution_count": 2,
      "outputs": [
        {
          "output_type": "stream",
          "text": [
            "8->9->10->11->12->13->None\n",
            "After moving to the prime: \n",
            "11->12->13->8->9->10->None\n"
          ],
          "name": "stdout"
        }
      ]
    },
    {
      "cell_type": "markdown",
      "metadata": {
        "id": "PHWvmFyDYI7W"
      },
      "source": [
        "**Q3.**\tImplement node sequence reversion in doubly linked list with char type value through a rev(ls) function call. Assume that original list is like \n",
        "\n",
        "None<-Head<=>a<=>b<=>c<=>d<=>e->None, the result should be \n",
        "\n",
        "None<-Head<=>e<=>d<=>c<=>b<=>a->None after function call\n"
      ]
    },
    {
      "cell_type": "code",
      "metadata": {
        "colab": {
          "base_uri": "https://localhost:8080/"
        },
        "id": "kfQTCeDjYlnW",
        "outputId": "b88c9a7d-94d1-4aff-87e3-1b0f2518dc2b"
      },
      "source": [
        "class Node(object):\n",
        "    \"\"\" A Doubly-linked lists' node. \"\"\"\n",
        "    def __init__(self, data=None, next=None, prev=None):\n",
        "        self.data = data\n",
        "        self.next = next\n",
        "        self.prev = prev\n",
        "\n",
        "\n",
        "class DoublyLinkedList(object):\n",
        "    def __init__(self):\n",
        "        self.head = None\n",
        "        self.tail = None\n",
        "        self.count = 0\n",
        "\n",
        "    def append(self, data):\n",
        "        new_node = Node(data, None, None)\n",
        "        if self.head is None:\n",
        "            self.head = new_node\n",
        "            self.tail = self.head\n",
        "        else:\n",
        "            new_node.prev = self.tail\n",
        "            self.tail.next = new_node\n",
        "            self.tail = new_node\n",
        "\n",
        "        self.count += 1\n",
        "\n",
        "    def print_LL(self):\n",
        "        current = self.head\n",
        "        while current:\n",
        "            print(str(current.data), end=\" \")\n",
        "            current = current.next\n",
        "\n",
        "    def rev(self):\n",
        "        temp = None\n",
        "        current = self.head\n",
        "\n",
        "        while current is not None:\n",
        "            temp = current.prev\n",
        "            current.prev = current.next\n",
        "            current.next = temp\n",
        "            current = current.prev\n",
        "\n",
        "        if temp is not None:\n",
        "            self.head = temp.prev\n",
        "\n",
        "\n",
        "\n",
        "dll = DoublyLinkedList()\n",
        "dll.append('a')\n",
        "dll.append('b')\n",
        "dll.append('c')\n",
        "dll.append('d')\n",
        "dll.append('e')\n",
        "dll.print_LL()\n",
        "dll.rev()\n",
        "print(\"\\nAfter reversion\")\n",
        "dll.print_LL()\n"
      ],
      "execution_count": 3,
      "outputs": [
        {
          "output_type": "stream",
          "text": [
            "a b c d e \n",
            "After reversion\n",
            "e d c b a "
          ],
          "name": "stdout"
        }
      ]
    },
    {
      "cell_type": "markdown",
      "metadata": {
        "id": "oNgyC3EeY5c2"
      },
      "source": [
        "**Q4**.\tGiven a list of list(i.e. nested list), such as ls = [1, [2, [3,4]], [[5, 6], 7]] , write a function/method flatten(ls) to create singly linked list\n",
        "\n",
        "Head ->1->2->3->4->5->6->7\n",
        "->None\n"
      ]
    },
    {
      "cell_type": "code",
      "metadata": {
        "colab": {
          "base_uri": "https://localhost:8080/"
        },
        "id": "HPpD0PzpaLHu",
        "outputId": "f4bf35d7-b9b9-4e11-ccb0-b0ca1b29fc26"
      },
      "source": [
        "class Node:\n",
        "\n",
        "    # Function to initialise the node object\n",
        "    def __init__(self, data):\n",
        "        self.data = data  # Assign data\n",
        "        self.next = None  # Initialize next as null\n",
        "\n",
        "\n",
        "# Linked List class contains a Node object\n",
        "class LinkedList:\n",
        "\n",
        "    # Function to initialize head\n",
        "    def __init__(self):\n",
        "        self.head = None\n",
        "\n",
        "    def append(self, new_data):\n",
        "        new_node = Node(new_data)\n",
        "        if self.head is None:\n",
        "            self.head = new_node\n",
        "            return\n",
        "\n",
        "        last = self.head\n",
        "        while last.next:\n",
        "            last = last.next\n",
        "\n",
        "        last.next = new_node\n",
        "\n",
        "    def print_LL(self):\n",
        "        current = self.head\n",
        "        while current:\n",
        "            print(str(current.data), end=\"->\")\n",
        "            current = current.next\n",
        "        print(\"None\")\n",
        "\n",
        "\n",
        "def flat(ls, ll):\n",
        "    for i in ls:\n",
        "        if isinstance(i, list):\n",
        "            flat(i, ll)\n",
        "        else:\n",
        "            ll.append(i)\n",
        "\n",
        "\n",
        "def flatten(ls):\n",
        "    ll = LinkedList()\n",
        "    flat(ls, ll)\n",
        "    return ll\n",
        "\n",
        "\n",
        "ls = [1, [2, [3,4]], [[5, 6], 7]]\n",
        "print(ls)\n",
        "ll = flatten(ls)\n",
        "print(\"After flattening \")\n",
        "ll.print_LL()"
      ],
      "execution_count": 4,
      "outputs": [
        {
          "output_type": "stream",
          "text": [
            "[1, [2, [3, 4]], [[5, 6], 7]]\n",
            "After flattening \n",
            "1->2->3->4->5->6->7->None\n"
          ],
          "name": "stdout"
        }
      ]
    }
  ]
}