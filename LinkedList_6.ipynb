{
  "nbformat": 4,
  "nbformat_minor": 0,
  "metadata": {
    "colab": {
      "name": "LinkedList_6.ipynb",
      "provenance": [],
      "authorship_tag": "ABX9TyMkg6jdwazVljyLdNLIgBm/",
      "include_colab_link": true
    },
    "kernelspec": {
      "name": "python3",
      "display_name": "Python 3"
    },
    "language_info": {
      "name": "python"
    }
  },
  "cells": [
    {
      "cell_type": "markdown",
      "metadata": {
        "id": "view-in-github",
        "colab_type": "text"
      },
      "source": [
        "<a href=\"https://colab.research.google.com/github/FarnazG/DataStructure/blob/main/LinkedList_6.ipynb\" target=\"_parent\"><img src=\"https://colab.research.google.com/assets/colab-badge.svg\" alt=\"Open In Colab\"/></a>"
      ]
    },
    {
      "cell_type": "markdown",
      "metadata": {
        "id": "x7xJUcHWEg5o"
      },
      "source": [
        "**Q1**.\tWrite two functions to delete an element in circular linked list by index or value. In the beginning of process, each function needs to check if circular linked list is empty or not. If empty, print message, such as \"not necessary to delete anything\". For instance, given circular linked list ls = Head->13->12->15->14->Head, after calling function cirLL_delete_key (ls, 15), the result should be Head->13->12->14->Head. If cirLL_delete_index (ls, 0) is called, you will get Head->12->15->14->Head"
      ]
    },
    {
      "cell_type": "code",
      "metadata": {
        "colab": {
          "base_uri": "https://localhost:8080/"
        },
        "id": "4tC-skacEMAL",
        "outputId": "a35d720c-bfe2-45f7-80ac-29dbfba7c3da"
      },
      "source": [
        "class Nd:\n",
        "    def __init__(self, data=None):\n",
        "        self.data = data\n",
        "        self.next = None\n",
        "\n",
        "\n",
        "class CircularList:\n",
        "    def __init__(self, data=None):\n",
        "        self.head = None\n",
        "        self.tail = None\n",
        "        self.size = 0\n",
        "\n",
        "    def append(self, data):\n",
        "        node = Nd(data)\n",
        "        if self.head:\n",
        "            self.tail.next = node\n",
        "            self.tail = node\n",
        "        else:\n",
        "            self.head = node\n",
        "            self.tail = node\n",
        "\n",
        "        self.tail.next = self.head\n",
        "        self.size += 1\n",
        "\n",
        "    def delete(self, nd):\n",
        "        if nd == self.head:\n",
        "            tmp = self.head\n",
        "            self.tail.next = self.head.next\n",
        "            tmp.next = None\n",
        "\n",
        "    def cirLL_delete_key(self, key):\n",
        "        if self.size == 0:\n",
        "            print(\"not necessary to delete anything\")\n",
        "            return\n",
        "\n",
        "        t1 = self.tail\n",
        "        while 1:\n",
        "            if t1.next.data == key:\n",
        "                if t1.next == self.head:\n",
        "                    self.head = t1.next.next\n",
        "                if t1.next == self.tail:\n",
        "                    self.tail = t1\n",
        "                tmp = t1.next\n",
        "                t1.next = t1.next.next\n",
        "                tmp.next = None\n",
        "                break\n",
        "\n",
        "            t1 = t1.next\n",
        "            if t1 == self.tail:\n",
        "                break\n",
        "\n",
        "    def cirLL_delete_index(self, idx):\n",
        "        if self.size == 0:\n",
        "            print(\"not necessary to delete anything\")\n",
        "            return\n",
        "\n",
        "        t1 = self.tail\n",
        "\n",
        "        for i in range(0,idx):\n",
        "            t1=t1.next\n",
        "\n",
        "        if t1.next == self.head:\n",
        "            self.head = t1.next.next\n",
        "        if t1.next == self.tail:\n",
        "            self.tail = t1\n",
        "        tmp = t1.next\n",
        "        t1.next = t1.next.next\n",
        "        tmp.next = None\n",
        "\n",
        "    def print_LL(self):\n",
        "        tmp = self.head\n",
        "\n",
        "        while 1:\n",
        "            print(tmp.data, end=\"->\")\n",
        "            tmp = tmp.next\n",
        "\n",
        "            if tmp == self.head:\n",
        "                print(\"None\")\n",
        "                break\n",
        "\n",
        "\n",
        "cl1 = CircularList()\n",
        "cl1.append(13)\n",
        "cl1.append(12)\n",
        "cl1.append(15)\n",
        "cl1.append(14)\n",
        "cl1.print_LL()\n",
        "cl1.cirLL_delete_key(15)\n",
        "print(\"After deleting key=15: \")\n",
        "cl1.print_LL()\n",
        "print(\"\")\n",
        "\n",
        "cl2 = CircularList()\n",
        "cl2.append(13)\n",
        "cl2.append(12)\n",
        "cl2.append(15)\n",
        "cl2.append(14)\n",
        "cl2.print_LL()\n",
        "cl2.cirLL_delete_index(0)\n",
        "print(\"After deleting index=0: \")\n",
        "cl2.print_LL()"
      ],
      "execution_count": 1,
      "outputs": [
        {
          "output_type": "stream",
          "text": [
            "13->12->15->14->None\n",
            "After deleting key=15: \n",
            "13->12->14->None\n",
            "\n",
            "13->12->15->14->None\n",
            "After deleting index=0: \n",
            "12->15->14->None\n"
          ],
          "name": "stdout"
        }
      ]
    },
    {
      "cell_type": "markdown",
      "metadata": {
        "id": "PqhndRRCFDhO"
      },
      "source": [
        "**Q2**.\tDelete an element with int type node value by index in doubly linked list. Try to implement the process in a function. At first, check if the list is empty or not, and then delete, such as list = None<-Head<=>11<=>9<=>13<=>8->None as input, output will be None<-Head<=>11<=>9<=>8->None  when calling function dul_LL_delete_index (ls, 2)"
      ]
    },
    {
      "cell_type": "code",
      "metadata": {
        "colab": {
          "base_uri": "https://localhost:8080/"
        },
        "id": "2QqUxeCLFC_u",
        "outputId": "b582d1aa-bb92-40a5-d995-9371ef7c279e"
      },
      "source": [
        "class Node(object):\n",
        "    \"\"\" A Doubly-linked lists' node. \"\"\"\n",
        "    def __init__(self, data=None, next=None, prev=None):\n",
        "        self.data = data\n",
        "        self.next = next\n",
        "        self.prev = prev\n",
        "\n",
        "\n",
        "class DoublyLinkedList(object):\n",
        "    def __init__(self):\n",
        "        self.head = None\n",
        "        self.tail = None\n",
        "        self.count = 0\n",
        "\n",
        "    def append(self, data):\n",
        "        new_node = Node(data, None, None)\n",
        "        if self.head is None:\n",
        "            self.head = new_node\n",
        "            self.tail = self.head\n",
        "        else:\n",
        "            new_node.prev = self.tail\n",
        "            self.tail.next = new_node\n",
        "            self.tail = new_node\n",
        "\n",
        "        self.count += 1\n",
        "\n",
        "    def print_LL(self):\n",
        "        current = self.head\n",
        "        print(\"None<-Head\", end=\"\")\n",
        "        while current:\n",
        "            print(\"<=>\" + str(current.data), end=\"\")\n",
        "            current = current.next\n",
        "        print(\"->None\")\n",
        "\n",
        "    def dul_LL_delete_index(self, idx):\n",
        "        if self.count == 0:\n",
        "            print(\"not necessary to delete anything\")\n",
        "            return\n",
        "        t1 = self.head\n",
        "        for i in range(0,idx):\n",
        "            t1 = t1.next\n",
        "\n",
        "        if t1 == self.head:\n",
        "            self.head = t1.next\n",
        "            t1.next.prev = None\n",
        "            t1.next = None\n",
        "            return\n",
        "        if t1 == self.tail:\n",
        "            self.head = t1.prev\n",
        "            t1.prev.next = None\n",
        "            t1.prev = None\n",
        "            return\n",
        "\n",
        "        t1.next.prev = t1.prev\n",
        "        t1.prev.next = t1.next\n",
        "        t1.next = None\n",
        "        t1.prev = None\n",
        "\n",
        "\n",
        "dll = DoublyLinkedList()\n",
        "dll.append(11)\n",
        "dll.append(9)\n",
        "dll.append(13)\n",
        "dll.append(8)\n",
        "dll.print_LL()\n",
        "dll.dul_LL_delete_index(2)\n",
        "print(\"\\nAfter deletion index=2\")\n",
        "dll.print_LL()"
      ],
      "execution_count": 2,
      "outputs": [
        {
          "output_type": "stream",
          "text": [
            "None<-Head<=>11<=>9<=>13<=>8->None\n",
            "\n",
            "After deletion index=2\n",
            "None<-Head<=>11<=>9<=>8->None\n"
          ],
          "name": "stdout"
        }
      ]
    },
    {
      "cell_type": "markdown",
      "metadata": {
        "id": "Id2fMDAbFgoa"
      },
      "source": [
        "**Q3.**\tFind a program to sort int type node value in doubly linked list. If the input argument in function is like lst = None<-Head<=>2<=>0<=>2<=>0->None, the new doubly linked should be None<-Head<=>0<=>0<=>2<=>2->None after function call srt_dul_LL (lst)"
      ]
    },
    {
      "cell_type": "code",
      "metadata": {
        "colab": {
          "base_uri": "https://localhost:8080/"
        },
        "id": "YE5cNt08FrLl",
        "outputId": "0665005b-a882-447e-e128-4af0bfeeb8ba"
      },
      "source": [
        "class Node(object):\n",
        "    \"\"\" A Doubly-linked lists' node. \"\"\"\n",
        "    def __init__(self, data=None, next=None, prev=None):\n",
        "        self.data = data\n",
        "        self.next = next\n",
        "        self.prev = prev\n",
        "\n",
        "\n",
        "class DoublyLinkedList(object):\n",
        "    def __init__(self):\n",
        "        self.head = None\n",
        "        self.tail = None\n",
        "        self.count = 0\n",
        "\n",
        "    def append(self, data):\n",
        "        new_node = Node(data, None, None)\n",
        "        if self.head is None:\n",
        "            self.head = new_node\n",
        "            self.tail = self.head\n",
        "        else:\n",
        "            new_node.prev = self.tail\n",
        "            self.tail.next = new_node\n",
        "            self.tail = new_node\n",
        "\n",
        "        self.count += 1\n",
        "\n",
        "    def print_LL(self):\n",
        "        current = self.head\n",
        "        print(\"None<-Head\", end=\"\")\n",
        "        while current:\n",
        "            print(\"<=>\" + str(current.data), end=\"\")\n",
        "            current = current.next\n",
        "        print(\"->None\")\n",
        "\n",
        "    def srt_dul_LL(self):\n",
        "        if self.count == 0:\n",
        "            print(\"not necessary to sort anything\")\n",
        "            return\n",
        "\n",
        "        t1 = self.head\n",
        "        while t1:\n",
        "            t2 = t1.next\n",
        "            while t2:\n",
        "                if t2.data < t1.data:\n",
        "                    tmp = t1.data\n",
        "                    t1.data = t2.data\n",
        "                    t2.data = tmp\n",
        "                t2 = t2.next\n",
        "            t1 = t1.next\n",
        "\n",
        "\n",
        "dll = DoublyLinkedList()\n",
        "dll.append(2)\n",
        "dll.append(0)\n",
        "dll.append(2)\n",
        "dll.append(0)\n",
        "dll.print_LL()\n",
        "dll.srt_dul_LL()\n",
        "print(\"\\nAfter sorting\")\n",
        "dll.print_LL()\n"
      ],
      "execution_count": 3,
      "outputs": [
        {
          "output_type": "stream",
          "text": [
            "None<-Head<=>2<=>0<=>2<=>0->None\n",
            "\n",
            "After sorting\n",
            "None<-Head<=>0<=>0<=>2<=>2->None\n"
          ],
          "name": "stdout"
        }
      ]
    },
    {
      "cell_type": "markdown",
      "metadata": {
        "id": "iwO560DzF9tB"
      },
      "source": [
        "**Q4**.\tGiven a doubly linked list with char type node value from a-zA-Z, such as \n",
        "l = None<-Head<=>r<=>A<=>d<=>a<=>R->None, create a function to reverse node sequence. For example, None<-Head<=>R<=>a<=>d<=>A<=>r->None will be the result after calling rev_dul_LL (l)\n"
      ]
    },
    {
      "cell_type": "code",
      "metadata": {
        "colab": {
          "base_uri": "https://localhost:8080/"
        },
        "id": "IJ2GAoFsGldU",
        "outputId": "f8827d39-5f31-4490-942d-59c3f5d4ec30"
      },
      "source": [
        "class Node(object):\n",
        "    \"\"\" A Doubly-linked lists' node. \"\"\"\n",
        "    def __init__(self, data=None, next=None, prev=None):\n",
        "        self.data = data\n",
        "        self.next = next\n",
        "        self.prev = prev\n",
        "\n",
        "\n",
        "class DoublyLinkedList(object):\n",
        "    def __init__(self):\n",
        "        self.head = None\n",
        "        self.tail = None\n",
        "        self.count = 0\n",
        "\n",
        "    def append(self, data):\n",
        "        new_node = Node(data, None, None)\n",
        "        if self.head is None:\n",
        "            self.head = new_node\n",
        "            self.tail = self.head\n",
        "        else:\n",
        "            new_node.prev = self.tail\n",
        "            self.tail.next = new_node\n",
        "            self.tail = new_node\n",
        "\n",
        "        self.count += 1\n",
        "\n",
        "    def print_LL(self):\n",
        "        current = self.head\n",
        "        print(\"None<-Head\", end=\"\")\n",
        "        while current:\n",
        "            print(\"<=>\" + str(current.data), end=\"\")\n",
        "            current = current.next\n",
        "        print(\"->None\")\n",
        "\n",
        "    def rev_dul_LL(self):\n",
        "        tmp = None\n",
        "        current = self.head\n",
        "\n",
        "        while current:\n",
        "            tmp = current.prev\n",
        "            current.prev = current.next\n",
        "            current.next = tmp\n",
        "            current = current.prev\n",
        "\n",
        "        self.tail = self.head\n",
        "        if tmp:\n",
        "            self.head = tmp.prev\n",
        "\n",
        "\n",
        "dll = DoublyLinkedList()\n",
        "dll.append('r')\n",
        "dll.append('A')\n",
        "dll.append('d')\n",
        "dll.append('a')\n",
        "dll.append('R')\n",
        "dll.print_LL()\n",
        "dll.rev_dul_LL()\n",
        "print(\"\\nAfter reversing\")\n",
        "dll.print_LL()"
      ],
      "execution_count": 4,
      "outputs": [
        {
          "output_type": "stream",
          "text": [
            "None<-Head<=>r<=>A<=>d<=>a<=>R->None\n",
            "\n",
            "After reversing\n",
            "None<-Head<=>R<=>a<=>d<=>A<=>r->None\n"
          ],
          "name": "stdout"
        }
      ]
    }
  ]
}